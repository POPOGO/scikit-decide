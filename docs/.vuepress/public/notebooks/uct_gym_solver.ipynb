{
  "cells": [
    {
      "cell_type": "markdown",
      "metadata": {},
      "source": [
        "Import modules."
      ]
    },
    {
      "cell_type": "code",
      "metadata": {},
      "source": [
        "import gym\n",
        "import numpy as np\n",
        "from typing import Callable\n",
        "\n",
        "from skdecide.hub.domain.gym import DeterministicGymDomain, GymDiscreteActionDomain\n",
        "from skdecide.hub.solver.mcts import UCT\n",
        "from skdecide.utils import rollout"
      ],
      "outputs": [],
      "execution_count": null
    },
    {
      "cell_type": "markdown",
      "metadata": {},
      "source": [
        "Select a [Gym environment](https://gym.openai.com/envs) and horizon parameter."
      ]
    },
    {
      "cell_type": "code",
      "metadata": {},
      "source": [
        "ENV_NAME = 'CartPole-v0'\n",
        "HORIZON = 200"
      ],
      "outputs": [],
      "execution_count": null
    },
    {
      "cell_type": "markdown",
      "metadata": {},
      "source": [
        "Define a specific UCT domain by combining Gym domain templates."
      ]
    },
    {
      "cell_type": "code",
      "metadata": {},
      "source": [
        "class D(DeterministicGymDomain, GymDiscreteActionDomain):\n",
        "    pass\n",
        "\n",
        "\n",
        "class GymUCTDomain(D):\n",
        "    \"\"\"This class wraps a cost-based deterministic OpenAI Gym environment as a domain\n",
        "        usable by a UCT planner\n",
        "\n",
        "    !!! warning\n",
        "        Using this class requires OpenAI Gym to be installed.\n",
        "    \"\"\"\n",
        "\n",
        "    def __init__(self, gym_env: gym.Env,\n",
        "                       set_state: Callable[[gym.Env, D.T_memory[D.T_state]], None] = None,\n",
        "                       get_state: Callable[[gym.Env], D.T_memory[D.T_state]] = None,\n",
        "                       discretization_factor: int = 3,\n",
        "                       branching_factor: int = None,\n",
        "                       max_depth: int = 50) -> None:\n",
        "        \"\"\"Initialize GymUCTDomain.\n",
        "\n",
        "        # Parameters\n",
        "        gym_env: The deterministic Gym environment (gym.env) to wrap.\n",
        "        set_state: Function to call to set the state of the gym environment.\n",
        "                   If None, default behavior is to deepcopy the environment when changing state\n",
        "        get_state: Function to call to get the state of the gym environment.\n",
        "                   If None, default behavior is to deepcopy the environment when changing state\n",
        "        discretization_factor: Number of discretized action variable values per continuous action variable\n",
        "        branching_factor: if not None, sample branching_factor actions from the resulting list of discretized actions\n",
        "        max_depth: maximum depth of states to explore from the initial state\n",
        "        \"\"\"\n",
        "        DeterministicGymDomain.__init__(self,\n",
        "                                        gym_env=gym_env,\n",
        "                                        set_state=set_state,\n",
        "                                        get_state=get_state)\n",
        "        GymDiscreteActionDomain.__init__(self,\n",
        "                                         discretization_factor=discretization_factor,\n",
        "                                         branching_factor=branching_factor)\n",
        "        gym_env._max_episode_steps = max_depth"
      ],
      "outputs": [],
      "execution_count": null
    },
    {
      "cell_type": "markdown",
      "metadata": {},
      "source": [
        "Solve the domain with UCT solver in \"realtime\"."
      ]
    },
    {
      "cell_type": "code",
      "metadata": {},
      "source": [
        "domain_factory = lambda: GymUCTDomain(gym_env=gym.make(ENV_NAME),\n",
        "                                      discretization_factor=3,\n",
        "                                      max_depth=HORIZON)\n",
        "domain = domain_factory()\n",
        "\n",
        "if UCT.check_domain(domain):\n",
        "    solver_factory = lambda: UCT(domain_factory=domain_factory,\n",
        "                                 time_budget=200,  # 200 ms,\n",
        "                                 rollout_budget=100,\n",
        "                                 transition_mode=UCT.Options.TransitionMode.Sample,\n",
        "                                 continuous_planning=True,\n",
        "                                 parallel=False, debug_logs=False)\n",
        "\n",
        "    with solver_factory() as solver:\n",
        "        GymUCTDomain.solve_with(solver, domain_factory)\n",
        "        rollout(domain, solver, num_episodes=1, max_steps=HORIZON, max_framerate=30,\n",
        "                outcome_formatter=lambda o: f'{o.observation} - cost: {o.value.cost:.2f}')"
      ],
      "outputs": [],
      "execution_count": null
    }
  ],
  "metadata": {
    "anaconda-cloud": {},
    "kernelspec": {
      "display_name": "Python 3",
      "language": "python",
      "name": "python3"
    },
    "language_info": {
      "codemirror_mode": {
        "name": "ipython",
        "version": 3
      },
      "file_extension": ".py",
      "mimetype": "text/x-python",
      "name": "python",
      "nbconvert_exporter": "python",
      "pygments_lexer": "ipython3",
      "version": "3.6.1"
    }
  },
  "nbformat": 4,
  "nbformat_minor": 1
}